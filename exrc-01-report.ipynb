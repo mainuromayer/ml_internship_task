{
 "cells": [
  {
   "cell_type": "code",
   "execution_count": 6,
   "metadata": {},
   "outputs": [
    {
     "name": "stdout",
     "output_type": "stream",
     "text": [
      "\n",
      "Calculated Values:\n",
      "Relative Humidity (avg): 87.90\n",
      "Temperature Average (avg): 2.74\n",
      "Wind Speed (avg): 3.90\n",
      "Precipitation Amount (avg): NaN\n",
      "Pressure Average (avg): 1012.63\n"
     ]
    }
   ],
   "source": [
    "import pandas as pd\n",
    "import matplotlib.pyplot as plt\n",
    "\n",
    "# Load the CSV data\n",
    "CSV_NAME = 'weather_2020-11.csv'\n",
    "data = pd.read_csv(CSV_NAME)\n",
    "\n",
    "# Filter and extract relevant data\n",
    "relevant_params = ['RH_PT1H_AVG', 'TA_PT1H_AVG', 'WS_PT1H_AVG', 'PRA_PT1H_ACC', 'PA_PT1H_AVG']\n",
    "relevant_data = data[data['ParameterName'].isin(relevant_params)].copy()\n",
    "\n",
    "# Convert ParameterValue to numeric, handling errors with NaN\n",
    "relevant_data['ParameterValue'] = pd.to_numeric(relevant_data['ParameterValue'], errors='coerce')\n",
    "\n",
    "# Pivot the table to have each parameter as a column\n",
    "pivot_table = relevant_data.pivot_table(values='ParameterValue', index='Time', columns='ParameterName')\n",
    "\n",
    "# Calculate summary statistics\n",
    "summary_stats = pivot_table.describe()\n",
    "\n",
    "# Calculate average values over the entire timespan\n",
    "avg_values = pivot_table.mean()\n",
    "\n",
    "# Output calculated values\n",
    "print(\"\\nCalculated Values:\")\n",
    "print(f\"Relative Humidity (avg): {avg_values['RH_PT1H_AVG']:.2f}\")\n",
    "print(f\"Temperature Average (avg): {avg_values['TA_PT1H_AVG']:.2f}\")\n",
    "print(f\"Wind Speed (avg): {avg_values['WS_PT1H_AVG']:.2f}\")\n",
    "\n",
    "# Check if 'PRA_PT1H_ACC' exists in avg_values before accessing it\n",
    "if 'PRA_PT1H_ACC' in avg_values:\n",
    "    print(f\"Precipitation Amount (avg): {avg_values['PRA_PT1H_ACC']:.2f}\")\n",
    "else:\n",
    "    print(\"Precipitation Amount (avg): NaN\")\n",
    "\n",
    "print(f\"Pressure Average (avg): {avg_values['PA_PT1H_AVG']:.2f}\")\n"
   ]
  }
 ],
 "metadata": {
  "kernelspec": {
   "display_name": "Python 3",
   "language": "python",
   "name": "python3"
  },
  "language_info": {
   "codemirror_mode": {
    "name": "ipython",
    "version": 3
   },
   "file_extension": ".py",
   "mimetype": "text/x-python",
   "name": "python",
   "nbconvert_exporter": "python",
   "pygments_lexer": "ipython3",
   "version": "3.12.2"
  },
  "orig_nbformat": 4,
  "vscode": {
   "interpreter": {
    "hash": "9240d949b7e875368571ba59acc67192d2efbcc4561b3c6f94c83d7858e18732"
   }
  }
 },
 "nbformat": 4,
 "nbformat_minor": 2
}
